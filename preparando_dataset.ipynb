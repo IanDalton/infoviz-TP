{
 "cells": [
  {
   "cell_type": "code",
   "execution_count": 8,
   "metadata": {},
   "outputs": [],
   "source": [
    "import pandas as pd\n",
    "\n"
   ]
  },
  {
   "cell_type": "code",
   "execution_count": 20,
   "metadata": {},
   "outputs": [],
   "source": [
    "df = pd.read_parquet(\"ResultadosElectorales_1v.parquet\")\n",
    "df2 = pd.read_parquet(\"ResultadosElectorales_PASO_2023.parquet\")\n",
    "\n",
    "var = ['eleccion_tipo',\"mesa_tipo\",\"mesa_electores\",\"cargo_id\",\n",
    "       \"agrupacion_nombre\",\"votos_tipo\",\"votos_cantidad\"]\n",
    "\n",
    "df = df[var]\n",
    "df2 = df2[var]\n"
   ]
  },
  {
   "cell_type": "code",
   "execution_count": 21,
   "metadata": {},
   "outputs": [],
   "source": [
    "db = pd.concat([df,df2],ignore_index=True)"
   ]
  },
  {
   "cell_type": "code",
   "execution_count": 22,
   "metadata": {},
   "outputs": [],
   "source": [
    "# create a dataset with only PRESIDENTE Y VICE values in cargo_nombre\n",
    "db = db[db['cargo_id'].isin([1])]"
   ]
  },
  {
   "cell_type": "code",
   "execution_count": 33,
   "metadata": {},
   "outputs": [],
   "source": [
    "# join the columns 'distrito_id','seccionprovincial_id', \"seccion_id\",\"circuito_id\",\"mesa_id\"\n",
    "columna = []\n",
    "\n",
    "for fila in db.iterrows():\n",
    "    columna.append(str(fila[1]['distrito_id']).zfill(2) + str(fila[1]['seccionprovincial_id']) +\n",
    "                   str(fila[1]['seccion_id']).zfill(3) + str(fila[1]['circuito_id']) + str(fila[1]['mesa_id']).zfill(4))"
   ]
  },
  {
   "cell_type": "code",
   "execution_count": 34,
   "metadata": {},
   "outputs": [],
   "source": [
    "db['id'] = columna\n",
    "# remove the columns 'distrito_id','seccionprovincial_id', \"seccion_id\",\"circuito_id\",\"mesa_id\"\n",
    "db = db.drop(columns=['distrito_id','seccionprovincial_id', \"seccion_id\",\"circuito_id\",\"mesa_id\"])"
   ]
  },
  {
   "cell_type": "code",
   "execution_count": 35,
   "metadata": {},
   "outputs": [],
   "source": [
    "db.to_csv(\"ResultadosElectoralesPres.csv\", index=False)"
   ]
  }
 ],
 "metadata": {
  "kernelspec": {
   "display_name": "Python 3",
   "language": "python",
   "name": "python3"
  },
  "language_info": {
   "codemirror_mode": {
    "name": "ipython",
    "version": 3
   },
   "file_extension": ".py",
   "mimetype": "text/x-python",
   "name": "python",
   "nbconvert_exporter": "python",
   "pygments_lexer": "ipython3",
   "version": "3.12.0"
  }
 },
 "nbformat": 4,
 "nbformat_minor": 2
}
